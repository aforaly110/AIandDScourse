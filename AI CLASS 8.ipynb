{
 "cells": [
  {
   "cell_type": "code",
   "execution_count": null,
   "metadata": {},
   "outputs": [],
   "source": [
    "def make_album(artist_name, title_name):\n",
    "    \"\"\"Build a dictionary containing information about an album.\"\"\"\n",
    "    album_dict = { 'artist': artist_name, 'title': title_name }\n",
    "    return album_dict"
   ]
  },
  {
   "cell_type": "code",
   "execution_count": null,
   "metadata": {},
   "outputs": [],
   "source": [
    "album = make_album('metallica', 'ride the lightning')\n",
    "print(album)\n",
    "\n",
    "album = make_album('beethoven', 'ninth symphony')\n",
    "print(album)\n",
    "\n",
    "album = make_album('willie nelson', 'red-headed stranger')\n",
    "print(album)"
   ]
  },
  {
   "cell_type": "code",
   "execution_count": null,
   "metadata": {},
   "outputs": [],
   "source": [
    "def make_album(artist_name, title_name, tracks = ''):\n",
    "    album_dict = { 'artist': artist_name, 'title': title_name }\n",
    "    if tracks:\n",
    "        album_dict['tracks']=tracks\n",
    "    return album_dict"
   ]
  },
  {
   "cell_type": "code",
   "execution_count": null,
   "metadata": {},
   "outputs": [],
   "source": [
    "album = make_album('metallica', 'ride the lightning','4')\n",
    "print(album)\n",
    "\n",
    "album = make_album('beethoven', 'ninth symphony','24')\n",
    "print(album)\n",
    "\n",
    "album = make_album('willie nelson', 'red-headed stranger')\n",
    "print(album)"
   ]
  },
  {
   "cell_type": "code",
   "execution_count": null,
   "metadata": {},
   "outputs": [],
   "source": [
    "def make_album(artistname , titlename):\n",
    "    dic={'artist': artistname, 'title':titlename}\n",
    "    return make_album()"
   ]
  },
  {
   "cell_type": "code",
   "execution_count": null,
   "metadata": {},
   "outputs": [],
   "source": [
    "title_prompt = \"\\nWhat album are you thinking of? \"\n",
    "artist_prompt = \"Who's the artist? \"\n",
    "\n",
    "while(True):\n",
    "    tit = input(title_prompt)\n",
    "    if(tit=='quit'):\n",
    "        break\n",
    "    art = input(artist_prompt)\n",
    "    if(art=='quit'):\n",
    "        break\n",
    "\n",
    "album = make_album(artist, title)\n",
    "print(album)"
   ]
  },
  {
   "cell_type": "code",
   "execution_count": 1,
   "metadata": {},
   "outputs": [
    {
     "name": "stdout",
     "output_type": "stream",
     "text": [
      "Enter 'quit' at any time to stop.\n",
      "\n",
      "What album are you thinking of? PERFECT\n",
      "Who's the artist? ED SHEEREN\n",
      "{'artist': 'Ed Sheeren', 'title': 'Perfect'}\n",
      "\n",
      "What album are you thinking of? NO TIME TO DIE\n",
      "Who's the artist? BILLIE EILLISH\n",
      "{'artist': 'Billie Eillish', 'title': 'No Time To Die'}\n",
      "\n",
      "What album are you thinking of? QUIT\n",
      "Who's the artist? QUIT\n",
      "{'artist': 'Quit', 'title': 'Quit'}\n",
      "\n",
      "What album are you thinking of? quit\n",
      "\n",
      "Thanks for responding!\n"
     ]
    }
   ],
   "source": [
    "def make_album(artist, title, tracks=0):\n",
    "     \n",
    "    album_dict = {\n",
    "        'artist': artist.title(),\n",
    "        'title': title.title(),\n",
    "        }\n",
    "    if tracks:\n",
    "        album_dict['tracks'] = tracks\n",
    "    return album_dict\n",
    " \n",
    "title_prompt = \"\\nWhat album are you thinking of? \"\n",
    "artist_prompt = \"Who's the artist? \"\n",
    "\n",
    " \n",
    "print(\"Enter 'quit' at any time to stop.\")\n",
    "\n",
    "while True:\n",
    "    title = input(title_prompt)\n",
    "    if title == 'quit':\n",
    "        break\n",
    "    \n",
    "    artist = input(artist_prompt)\n",
    "    if artist == 'quit':\n",
    "        break\n",
    "\n",
    "    album = make_album(artist, title)\n",
    "    print(album)\n",
    "\n",
    "print(\"\\nThanks for responding!\")"
   ]
  },
  {
   "cell_type": "code",
   "execution_count": null,
   "metadata": {},
   "outputs": [],
   "source": []
  },
  {
   "cell_type": "code",
   "execution_count": 36,
   "metadata": {},
   "outputs": [],
   "source": [
    "def commision():\n",
    "    \n",
    "    sales = int(input(\"how many sales?\"))\n",
    "    comm = 0\n",
    "    if sales > 100:\n",
    "        comm = 100 * 0.1 \n",
    "    elif sales > 200:\n",
    "        comm = 200 * 0.2\n",
    "    else:\n",
    "        comm = comm\n",
    "    return comm"
   ]
  },
  {
   "cell_type": "code",
   "execution_count": 37,
   "metadata": {},
   "outputs": [],
   "source": [
    "def taxd():\n",
    "    taxded = 0\n",
    "    if basic_salary<30000:\n",
    "        taxded = 0\n",
    "    elif basic_salary > 30000 and basic_salary < 50000:\n",
    "        taxded = 5\n",
    "    elif basic_salary >= 50000 and basic_salary < 100000:\n",
    "        taxded = 10\n",
    "    else:\n",
    "        tax = 15\n",
    "    return basic_salary * taxded/100"
   ]
  },
  {
   "cell_type": "code",
   "execution_count": 38,
   "metadata": {},
   "outputs": [],
   "source": [
    "def salary_cal(basic_salary):\n",
    "   \n",
    "    grossSalary = basic_salary - taxd() + commision()\n",
    "    return grossSalary"
   ]
  },
  {
   "cell_type": "code",
   "execution_count": 39,
   "metadata": {},
   "outputs": [
    {
     "name": "stdout",
     "output_type": "stream",
     "text": [
      "Enter the basic salary of the employee50000\n",
      "how many sales?200\n",
      "the gross sal of the emp is 45010.0\n"
     ]
    }
   ],
   "source": [
    "basic_salary = int(input(\"Enter the basic salary of the employee\"))\n",
    "\n",
    "grossSalary = salary_cal(basic_salary)\n",
    "print(f\"the gross sal of the emp is {grossSalary}\")"
   ]
  },
  {
   "cell_type": "code",
   "execution_count": null,
   "metadata": {},
   "outputs": [],
   "source": []
  }
 ],
 "metadata": {
  "kernelspec": {
   "display_name": "Python 3",
   "language": "python",
   "name": "python3"
  },
  "language_info": {
   "codemirror_mode": {
    "name": "ipython",
    "version": 3
   },
   "file_extension": ".py",
   "mimetype": "text/x-python",
   "name": "python",
   "nbconvert_exporter": "python",
   "pygments_lexer": "ipython3",
   "version": "3.7.6"
  }
 },
 "nbformat": 4,
 "nbformat_minor": 4
}
